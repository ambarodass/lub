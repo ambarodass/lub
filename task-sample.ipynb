{
 "cells": [
  {
   "cell_type": "raw",
   "metadata": {},
   "source": [
    "Миллионы людей ежедневно пользуются поиском по картинкам в Яндексе, решая разнообразные задачи. \n",
    "Команда Яндекса прикладывает много усилий чтобы сделать сервис более полезным и удобным для использоватния. \n",
    "Но для этого нужно хорошо понимать задачи которые решают пользователи. К примеру есть гипотеза, что интересы людей, пользующихся поиском по картинкам на мобильных устройствах и компьютерах, заметно отличаются.\n",
    "Вам нужно проверить эту гипотезу, сравнив запросы на разных платформах.\n",
    "\n",
    "В файле data.tsv лежит семпл запросов к Яндекс.Каринкам за несколько недель.\n",
    "Ваша задача:\n",
    "1. Выведите топ10 самых частотных запросов в каждой платформе (desktop, touch). Какие отличия вы видите?\n",
    "2. Посмотрите, чем отличается трафик запросов в течении дня. Как можно объяснить отличие?\n",
    "3. Выделите тематики запросов, контрастные для мобильных и компьютеров - темы, доли которых отличаются на разных платформах."
   ]
  },
  {
   "cell_type": "markdown",
   "metadata": {},
   "source": [
    "# Минимально обработаем фрейм"
   ]
  },
  {
   "cell_type": "code",
   "execution_count": 113,
   "metadata": {},
   "outputs": [
    {
     "data": {
      "text/html": [
       "<div>\n",
       "<style scoped>\n",
       "    .dataframe tbody tr th:only-of-type {\n",
       "        vertical-align: middle;\n",
       "    }\n",
       "\n",
       "    .dataframe tbody tr th {\n",
       "        vertical-align: top;\n",
       "    }\n",
       "\n",
       "    .dataframe thead th {\n",
       "        text-align: right;\n",
       "    }\n",
       "</style>\n",
       "<table border=\"1\" class=\"dataframe\">\n",
       "  <thead>\n",
       "    <tr style=\"text-align: right;\">\n",
       "      <th></th>\n",
       "      <th>query</th>\n",
       "      <th>ts</th>\n",
       "      <th>ui</th>\n",
       "    </tr>\n",
       "  </thead>\n",
       "  <tbody>\n",
       "    <tr>\n",
       "      <th>0</th>\n",
       "      <td>малевич картины</td>\n",
       "      <td>1631806465</td>\n",
       "      <td>desktop</td>\n",
       "    </tr>\n",
       "    <tr>\n",
       "      <th>1</th>\n",
       "      <td>секс</td>\n",
       "      <td>1631781583</td>\n",
       "      <td>touch</td>\n",
       "    </tr>\n",
       "    <tr>\n",
       "      <th>2</th>\n",
       "      <td>с днем рождения лена</td>\n",
       "      <td>1631771563</td>\n",
       "      <td>touch</td>\n",
       "    </tr>\n",
       "    <tr>\n",
       "      <th>3</th>\n",
       "      <td>зверополис порно</td>\n",
       "      <td>1631787599</td>\n",
       "      <td>touch</td>\n",
       "    </tr>\n",
       "    <tr>\n",
       "      <th>4</th>\n",
       "      <td>алабай собака фото</td>\n",
       "      <td>1631786645</td>\n",
       "      <td>touch</td>\n",
       "    </tr>\n",
       "    <tr>\n",
       "      <th>...</th>\n",
       "      <td>...</td>\n",
       "      <td>...</td>\n",
       "      <td>...</td>\n",
       "    </tr>\n",
       "    <tr>\n",
       "      <th>1203818</th>\n",
       "      <td>бабочка</td>\n",
       "      <td>1631475653</td>\n",
       "      <td>touch</td>\n",
       "    </tr>\n",
       "    <tr>\n",
       "      <th>1203819</th>\n",
       "      <td>все республики россии</td>\n",
       "      <td>1631462934</td>\n",
       "      <td>touch</td>\n",
       "    </tr>\n",
       "    <tr>\n",
       "      <th>1203820</th>\n",
       "      <td>кухня в стиле лофт</td>\n",
       "      <td>1631432252</td>\n",
       "      <td>touch</td>\n",
       "    </tr>\n",
       "    <tr>\n",
       "      <th>1203821</th>\n",
       "      <td>топор</td>\n",
       "      <td>1631449347</td>\n",
       "      <td>desktop</td>\n",
       "    </tr>\n",
       "    <tr>\n",
       "      <th>1203822</th>\n",
       "      <td>аватарки для тик тока</td>\n",
       "      <td>1631457656</td>\n",
       "      <td>touch</td>\n",
       "    </tr>\n",
       "  </tbody>\n",
       "</table>\n",
       "<p>1203823 rows × 3 columns</p>\n",
       "</div>"
      ],
      "text/plain": [
       "                         query          ts       ui\n",
       "0              малевич картины  1631806465  desktop\n",
       "1                         секс  1631781583    touch\n",
       "2         с днем рождения лена  1631771563    touch\n",
       "3             зверополис порно  1631787599    touch\n",
       "4           алабай собака фото  1631786645    touch\n",
       "...                        ...         ...      ...\n",
       "1203818                бабочка  1631475653    touch\n",
       "1203819  все республики россии  1631462934    touch\n",
       "1203820     кухня в стиле лофт  1631432252    touch\n",
       "1203821                  топор  1631449347  desktop\n",
       "1203822  аватарки для тик тока  1631457656    touch\n",
       "\n",
       "[1203823 rows x 3 columns]"
      ]
     },
     "execution_count": 113,
     "metadata": {},
     "output_type": "execute_result"
    }
   ],
   "source": [
    "import pandas as pd\n",
    "%matplotlib inline\n",
    "df = pd.read_csv(\"data.tsv\", sep=\"\\t\", header=0, names = (\"query\", \"ts\", \"ui\"))\n",
    "\n",
    "df['query'] = df['query'].map(lambda x: x.lower())\n",
    "df['query'] = df['query'].str.replace('ё','е')\n",
    "\n",
    "df"
   ]
  },
  {
   "cell_type": "raw",
   "metadata": {},
   "source": [
    "Для адекватности сортировки запросов стоит хотя бы чуть-чуть поредачить их: очевидно, что мы можем сделать все запросы в нижнем регистре и заменить ё на е при этом не теряя смысловой нагрузки запроса. Можно еще позаниматься группировкой запросов по похожести(вводить какие-то хитрые метрики для сравнений), но простых решений, как выше, уже нет. Поэтому ограничимся тем что есть."
   ]
  },
  {
   "cell_type": "markdown",
   "metadata": {},
   "source": [
    "# 1. Top 10 запросов"
   ]
  },
  {
   "cell_type": "code",
   "execution_count": 106,
   "metadata": {},
   "outputs": [],
   "source": [
    "from IPython.display import display_html\n",
    "from itertools import chain,cycle"
   ]
  },
  {
   "cell_type": "code",
   "execution_count": 107,
   "metadata": {},
   "outputs": [],
   "source": [
    "\n",
    "#Функция которая позволяет вывести два df рядом для удобности сравнения\n",
    "def display_side_by_side(*args,titles=cycle([''])):\n",
    "    html_str=''\n",
    "    for df,title in zip(args, chain(titles,cycle(['</br>'])) ):\n",
    "        html_str+='<th style=\"text-align:center\"><td style=\"vertical-align:top\">'\n",
    "        html_str+=f'<h2>{title}</h2>'\n",
    "        html_str+=df.to_html().replace('table','table style=\"display:inline\"')\n",
    "        html_str+='</td></th>'\n",
    "    display_html(html_str,raw=True)\n",
    "    "
   ]
  },
  {
   "cell_type": "code",
   "execution_count": 267,
   "metadata": {},
   "outputs": [],
   "source": [
    "\n",
    "d_df = df[df[\"ui\"] == \"desktop\"]\n",
    "t_df = df[df[\"ui\"] == \"touch\"]\n",
    "\n",
    "d_df_f = d_df.groupby([\"query\"]).count().sort_values(\"ts\", ascending=False).head(10).reset_index()[['query', 'ts']].rename({'ts' : 'frequency'}, axis='columns') # f = frequent\n",
    "t_df_f = t_df.groupby([\"query\"]).count().sort_values(\"ts\", ascending=False).head(10).reset_index()[['query', 'ts']].rename({'ts' : 'frequency'}, axis='columns')\n"
   ]
  },
  {
   "cell_type": "code",
   "execution_count": 109,
   "metadata": {},
   "outputs": [
    {
     "data": {
      "text/html": [
       "<th style=\"text-align:center\"><td style=\"vertical-align:top\"><h2>Desktop</h2><table style=\"display:inline\" border=\"1\" class=\"dataframe\">\n",
       "  <thead>\n",
       "    <tr style=\"text-align: right;\">\n",
       "      <th></th>\n",
       "      <th>query</th>\n",
       "      <th>frequency</th>\n",
       "    </tr>\n",
       "  </thead>\n",
       "  <tbody>\n",
       "    <tr>\n",
       "      <th>0</th>\n",
       "      <td>календарь 2021</td>\n",
       "      <td>2810</td>\n",
       "    </tr>\n",
       "    <tr>\n",
       "      <th>1</th>\n",
       "      <td>таблица менделеева</td>\n",
       "      <td>2659</td>\n",
       "    </tr>\n",
       "    <tr>\n",
       "      <th>2</th>\n",
       "      <td>картинки</td>\n",
       "      <td>1720</td>\n",
       "    </tr>\n",
       "    <tr>\n",
       "      <th>3</th>\n",
       "      <td>порно</td>\n",
       "      <td>1408</td>\n",
       "    </tr>\n",
       "    <tr>\n",
       "      <th>4</th>\n",
       "      <td>английский алфавит</td>\n",
       "      <td>1352</td>\n",
       "    </tr>\n",
       "    <tr>\n",
       "      <th>5</th>\n",
       "      <td>обои на рабочий стол</td>\n",
       "      <td>1143</td>\n",
       "    </tr>\n",
       "    <tr>\n",
       "      <th>6</th>\n",
       "      <td>одноклассники (социальная сеть)</td>\n",
       "      <td>1116</td>\n",
       "    </tr>\n",
       "    <tr>\n",
       "      <th>7</th>\n",
       "      <td>секс</td>\n",
       "      <td>947</td>\n",
       "    </tr>\n",
       "    <tr>\n",
       "      <th>8</th>\n",
       "      <td>алфавит</td>\n",
       "      <td>923</td>\n",
       "    </tr>\n",
       "    <tr>\n",
       "      <th>9</th>\n",
       "      <td>таблица квадратов</td>\n",
       "      <td>883</td>\n",
       "    </tr>\n",
       "  </tbody>\n",
       "</table style=\"display:inline\"></td></th><th style=\"text-align:center\"><td style=\"vertical-align:top\"><h2>Touch</h2><table style=\"display:inline\" border=\"1\" class=\"dataframe\">\n",
       "  <thead>\n",
       "    <tr style=\"text-align: right;\">\n",
       "      <th></th>\n",
       "      <th>query</th>\n",
       "      <th>frequency</th>\n",
       "    </tr>\n",
       "  </thead>\n",
       "  <tbody>\n",
       "    <tr>\n",
       "      <th>0</th>\n",
       "      <td>порно</td>\n",
       "      <td>10076</td>\n",
       "    </tr>\n",
       "    <tr>\n",
       "      <th>1</th>\n",
       "      <td>секс</td>\n",
       "      <td>8262</td>\n",
       "    </tr>\n",
       "    <tr>\n",
       "      <th>2</th>\n",
       "      <td>с днем рождения</td>\n",
       "      <td>7438</td>\n",
       "    </tr>\n",
       "    <tr>\n",
       "      <th>3</th>\n",
       "      <td>с днем рождения женщине</td>\n",
       "      <td>5516</td>\n",
       "    </tr>\n",
       "    <tr>\n",
       "      <th>4</th>\n",
       "      <td>с днем рождения мужчине</td>\n",
       "      <td>4339</td>\n",
       "    </tr>\n",
       "    <tr>\n",
       "      <th>5</th>\n",
       "      <td>хентай</td>\n",
       "      <td>4212</td>\n",
       "    </tr>\n",
       "    <tr>\n",
       "      <th>6</th>\n",
       "      <td>xxx</td>\n",
       "      <td>3249</td>\n",
       "    </tr>\n",
       "    <tr>\n",
       "      <th>7</th>\n",
       "      <td>xnxx</td>\n",
       "      <td>2767</td>\n",
       "    </tr>\n",
       "    <tr>\n",
       "      <th>8</th>\n",
       "      <td>доброе утро</td>\n",
       "      <td>2342</td>\n",
       "    </tr>\n",
       "    <tr>\n",
       "      <th>9</th>\n",
       "      <td>таблица менделеева</td>\n",
       "      <td>2278</td>\n",
       "    </tr>\n",
       "  </tbody>\n",
       "</table style=\"display:inline\"></td></th>"
      ]
     },
     "metadata": {},
     "output_type": "display_data"
    }
   ],
   "source": [
    "display_side_by_side(d_df_f, t_df_f, titles = ['Desktop', 'Touch'])"
   ]
  },
  {
   "cell_type": "raw",
   "metadata": {},
   "source": [
    "1. Нерепрезентативное сравнение, так как мы не провели анализ и группировку самих запросов, то есть мы сравниваем самые невариативные запросы (собака корги != корги собака). Также следует помнить, что эти запросы в Яндекс.Картинки. \n",
    "2. Отличие представленных выше фреймов в специализации запросов. Видно, что с десктопов люди преимущественно работают, а с мобильных девайсов преимущественно занимаются личной жизнью. Половину запросов десктопа можно смело определить в категорию работы: \"календарь 2021\" (планирование встреч, отпусков, любая деятельность), \"таблица менделеева\", \"английский алфавит\", \"таблица квадратов\", \"̶п̶о̶р̶н̶о̶  алфавит\". \n",
    "3. Частота запросов. Люди гораздо больше запросов делают на мобильных устройствах. Можно также попробовать составить качественную статистику дней рождений по месяцам. \n",
    "4. Стоит проверить гипотезу о том, что средний возраст пользователей компьютеров значительно выше пользователей мобильных устройств. С помощью этой информации можно попробовать вычленить из запросов мобилок возрастной контингент и изучить поведение группы (например, если профиль запросов в мобилке похож на десктопный, то, возможно, это возрастной пользователь). \n",
    "5. Люди предпочитают смотреть контент 18+ на мобильных устройствах. "
   ]
  },
  {
   "cell_type": "markdown",
   "metadata": {},
   "source": [
    "# 2. Распределение в течении дня"
   ]
  },
  {
   "cell_type": "code",
   "execution_count": 110,
   "metadata": {},
   "outputs": [],
   "source": [
    "import datetime as dt\n",
    "import matplotlib.pyplot as plt\n",
    "import seaborn as sns\n",
    "\n",
    "plt.rcParams[\"figure.figsize\"] = (12,8)\n",
    "sns.set_style(\"darkgrid\")"
   ]
  },
  {
   "cell_type": "code",
   "execution_count": 111,
   "metadata": {},
   "outputs": [],
   "source": [
    "\n",
    "d_hours = pd.to_datetime(d_df['ts'], unit='s').apply(lambda x: x.time().hour)\n",
    "t_hours = pd.to_datetime(t_df['ts'], unit='s').apply(lambda x: x.time().hour)\n"
   ]
  },
  {
   "cell_type": "code",
   "execution_count": 112,
   "metadata": {
    "scrolled": false
   },
   "outputs": [
    {
     "data": {
      "image/png": "[encoded data removed]",
      "text/plain": [
       "<Figure size 864x576 with 1 Axes>"
      ]
     },
     "metadata": {},
     "output_type": "display_data"
    }
   ],
   "source": [
    "\n",
    "t_hours.hist(bins=24)\n",
    "d_hours.hist(bins=24)\n",
    "plt.title('Сomparison')\n",
    "plt.legend(['Touch', 'Desktop'])\n",
    "\n",
    "plt.show()\n"
   ]
  },
  {
   "cell_type": "raw",
   "metadata": {},
   "source": [
    "Гипотезы причин отличий \n",
    "1. Как было описано выше, люди используют мобильные устройства скорее для личных нужд, поэтому выглядит логичным, что пики приходятся на нерабочие часы.\n",
    "2. Снижение активности у десктоп запросов после обеда можно объяснить снижением необходимости что-то искать по работе, люди перетекают в личную жизнь (косвенно подтверждаем тем, что количество запросов на мобилках с этого момента растет). "
   ]
  },
  {
   "cell_type": "markdown",
   "metadata": {},
   "source": [
    "# 3. Контрастные тематики"
   ]
  },
  {
   "cell_type": "raw",
   "metadata": {},
   "source": [
    "Подсчитаем количество уникальных запросов, оценим насколько это приближает к ответу."
   ]
  },
  {
   "cell_type": "code",
   "execution_count": 261,
   "metadata": {},
   "outputs": [
    {
     "data": {
      "text/html": [
       "<div>\n",
       "<style scoped>\n",
       "    .dataframe tbody tr th:only-of-type {\n",
       "        vertical-align: middle;\n",
       "    }\n",
       "\n",
       "    .dataframe tbody tr th {\n",
       "        vertical-align: top;\n",
       "    }\n",
       "\n",
       "    .dataframe thead th {\n",
       "        text-align: right;\n",
       "    }\n",
       "</style>\n",
       "<table border=\"1\" class=\"dataframe\">\n",
       "  <thead>\n",
       "    <tr style=\"text-align: right;\">\n",
       "      <th></th>\n",
       "      <th>query</th>\n",
       "      <th>ts</th>\n",
       "      <th>ui</th>\n",
       "    </tr>\n",
       "  </thead>\n",
       "  <tbody>\n",
       "    <tr>\n",
       "      <th>0</th>\n",
       "      <td>+18</td>\n",
       "      <td>45</td>\n",
       "      <td>45</td>\n",
       "    </tr>\n",
       "    <tr>\n",
       "      <th>1</th>\n",
       "      <td>+18 video</td>\n",
       "      <td>26</td>\n",
       "      <td>26</td>\n",
       "    </tr>\n",
       "    <tr>\n",
       "      <th>2</th>\n",
       "      <td>002</td>\n",
       "      <td>19</td>\n",
       "      <td>19</td>\n",
       "    </tr>\n",
       "    <tr>\n",
       "      <th>3</th>\n",
       "      <td>02 аниме</td>\n",
       "      <td>64</td>\n",
       "      <td>64</td>\n",
       "    </tr>\n",
       "    <tr>\n",
       "      <th>4</th>\n",
       "      <td>02 милый во франсе</td>\n",
       "      <td>30</td>\n",
       "      <td>30</td>\n",
       "    </tr>\n",
       "    <tr>\n",
       "      <th>...</th>\n",
       "      <td>...</td>\n",
       "      <td>...</td>\n",
       "      <td>...</td>\n",
       "    </tr>\n",
       "    <tr>\n",
       "      <th>23776</th>\n",
       "      <td>سكس</td>\n",
       "      <td>83</td>\n",
       "      <td>83</td>\n",
       "    </tr>\n",
       "    <tr>\n",
       "      <th>23777</th>\n",
       "      <td>幼女</td>\n",
       "      <td>16</td>\n",
       "      <td>16</td>\n",
       "    </tr>\n",
       "    <tr>\n",
       "      <th>23778</th>\n",
       "      <td>视频</td>\n",
       "      <td>69</td>\n",
       "      <td>69</td>\n",
       "    </tr>\n",
       "    <tr>\n",
       "      <th>23779</th>\n",
       "      <td>보지</td>\n",
       "      <td>16</td>\n",
       "      <td>16</td>\n",
       "    </tr>\n",
       "    <tr>\n",
       "      <th>23780</th>\n",
       "      <td>🍑</td>\n",
       "      <td>24</td>\n",
       "      <td>24</td>\n",
       "    </tr>\n",
       "  </tbody>\n",
       "</table>\n",
       "<p>23781 rows × 3 columns</p>\n",
       "</div>"
      ],
      "text/plain": [
       "                    query  ts  ui\n",
       "0                     +18  45  45\n",
       "1               +18 video  26  26\n",
       "2                     002  19  19\n",
       "3                02 аниме  64  64\n",
       "4      02 милый во франсе  30  30\n",
       "...                   ...  ..  ..\n",
       "23776                 سكس  83  83\n",
       "23777                  幼女  16  16\n",
       "23778                  视频  69  69\n",
       "23779                  보지  16  16\n",
       "23780                   🍑  24  24\n",
       "\n",
       "[23781 rows x 3 columns]"
      ]
     },
     "execution_count": 261,
     "metadata": {},
     "output_type": "execute_result"
    }
   ],
   "source": [
    "df.groupby([\"query\"]).count().reset_index()"
   ]
  },
  {
   "cell_type": "raw",
   "metadata": {},
   "source": [
    "Получили сокращение в 50 раз (1203823 vs 23781), хороший фильтр\n",
    "\n",
    "Есть несколько идей тематизации запросов. \n",
    "\n",
    "1. Разбить запрос на слова и сравнить все запросы между собой. Если запрос совпадает на 50%+ (np.intersect1d()), то заменить найденный на исокмый. Таким образом, пощупав получившиеся результаты (возможно, не с первой итерации этого нехитрого алгоритма) удастся тематизировать запросы и узнать их частоту через .count(). Попробовав реализовать этот метод я столкнулся с проблемой, что подобный процесс требует на моём компьютере одну ~секунду на итерацию, легко подсчитать, что мне понадобится для ответа подождать 12+ часов, либо воспользоваться мощностями сервера, чем я не располагаю. Сам код расчетов я реализовал. \n",
    "\n",
    "2. Создать базу данных всех слов в запросах. Узнать, сколько раз встречается каждое уникальное слово и выкинуть слова не несущие смысловой нагрузки (союзы, \"как\", \"почему\" и прочее). Получаем задачу кластеризации, решаем через методы DS (отдать саентистам). После этого можем классифицировать каждый запрос и получть репрезентативное сравнение. Этот вариант я реализовать тоже не могу, т.к. не обладаю нужными мощностями. \n",
    "\n",
    "3. Создать базу данных всех уникальных слов, объявить их тематикой запроса и попробовать сравнить на поверхностном уровне. Такой подход может быть оправданным, если считать, что человек ищет в яндекс картинках какие-то конкретные объекты. Допускаю, что можно откинуть запросы, заданные по ошибке в Яндекс.картинки, как погрешность. Иначе придется долго и нудно (в контексте большой задачи) выискивать шумовые элементы в запросах, которые не важны для тематизации. \n"
   ]
  },
  {
   "cell_type": "markdown",
   "metadata": {},
   "source": [
    "## Код для первой идеи "
   ]
  },
  {
   "cell_type": "code",
   "execution_count": 255,
   "metadata": {},
   "outputs": [],
   "source": [
    "import numpy as np"
   ]
  },
  {
   "cell_type": "code",
   "execution_count": null,
   "metadata": {},
   "outputs": [],
   "source": [
    "\n",
    "ddf1 = df[df[\"ui\"] == \"desktop\"]\n",
    "\n",
    "ddf1.loc['query'] = ddf1['query'].map(lambda x: x.split(' ')) #разрезали запросы по словам\n"
   ]
  },
  {
   "cell_type": "code",
   "execution_count": null,
   "metadata": {},
   "outputs": [],
   "source": [
    "\n",
    "for i in range(ddf1.shape[0]):\n",
    "    q = ddf1['query'].iloc[i] #искомый запрос\n",
    "    #создаем колонку с пересечением в процентах с каждым запросом \n",
    "    ddf1['res'] = ddf1['query'].map(lambda x: len(np.intersect1d(q, x))/len(x)) \n",
    "    #Заменяем все похожие запросы на искомые \n",
    "    ddf1.loc[ddf1[ddf1['res'] >= 0.5].index, 'query'] = ddf1.loc[ddf1[ddf1['res'] >= 0.5].index, 'query'].apply(lambda x: q)\n"
   ]
  },
  {
   "cell_type": "code",
   "execution_count": null,
   "metadata": {},
   "outputs": [],
   "source": [
    "ddf1['query'] = ddf1['query'].str.join(' ') #сращиваем запросы"
   ]
  },
  {
   "cell_type": "code",
   "execution_count": null,
   "metadata": {},
   "outputs": [],
   "source": [
    "df1.groupby(by='query').count().sort_values(\"ts\", ascending=False).head() #смотрим на результат тематизирования для decktop"
   ]
  },
  {
   "cell_type": "markdown",
   "metadata": {},
   "source": [
    "## Код для третьей идеи"
   ]
  },
  {
   "cell_type": "code",
   "execution_count": 376,
   "metadata": {},
   "outputs": [],
   "source": [
    "import numpy as np\n",
    "from collections import Counter\n",
    "\n",
    "def sorted_dict(x):\n",
    "    sdict = {}\n",
    "    skeys = sorted(x, key=x.get, reverse = True)\n",
    "    for w in skeys:\n",
    "        sdict[w] = x[w]\n",
    "    return(sdict)\n",
    "\n",
    "ss = ['и', 'да', 'ни', 'тоже', 'также', 'а', 'но', 'однако',\n",
    "    'зато', 'же', 'или', 'либо', 'что', 'чтобы', 'будто',\n",
    "    'когда', 'пока', 'едва', 'если', 'раз', 'чтобы', 'дабы',\n",
    "    'хотя', 'хоть', 'пускай', 'как', 'словно', 'кто', 'каков',\n",
    "    'который', 'куда', 'откуда', 'где', 'сколько', 'почему', \n",
    "      'зачем', 'как', '', 'для', 'на', 'в', 'c', 'с', 'это', 'по']\n",
    "#Возможна реализация и более сложных фильтров, можно попробовать с помощью regex выкинуть приставки/окончания и получить семантическое ядро"
   ]
  },
  {
   "cell_type": "code",
   "execution_count": 355,
   "metadata": {},
   "outputs": [],
   "source": [
    "ddf1 = df[df[\"ui\"] == \"desktop\"]\n",
    "ddf2 = df[df[\"ui\"] == \"touch\"]"
   ]
  },
  {
   "cell_type": "code",
   "execution_count": 356,
   "metadata": {},
   "outputs": [],
   "source": [
    "st1 = ''\n",
    "for i in range(ddf1.shape[0]):\n",
    "    st1 += ' ' + ddf1['query'].iloc[i] + ' '\n",
    "    \n",
    "st2 = ''\n",
    "for i in range(ddf2.shape[0]):\n",
    "    st2 += ' ' + ddf2['query'].iloc[i] + ' '"
   ]
  },
  {
   "cell_type": "code",
   "execution_count": 431,
   "metadata": {},
   "outputs": [],
   "source": [
    "dict1 = sorted_dict(Counter(st1.split(' ')))\n",
    "dict2 = sorted_dict(Counter(st2.split(' ')))\n",
    "#словари 1,2 = desktop, touch где хранится количество вхождений слова в запросах"
   ]
  },
  {
   "cell_type": "code",
   "execution_count": 432,
   "metadata": {},
   "outputs": [],
   "source": [
    "for i in ss:\n",
    "    z = dict1.pop(i, None)\n",
    "    z = dict2.pop(i, None)\n",
    "#чистим от мусорных слов"
   ]
  },
  {
   "cell_type": "raw",
   "metadata": {},
   "source": [
    "Решил отнормировать на наиболее частовходящее слово, для примерной оценки долей"
   ]
  },
  {
   "cell_type": "code",
   "execution_count": 433,
   "metadata": {},
   "outputs": [],
   "source": [
    "leng = len(dict1)\n",
    "for i in dict1.keys():\n",
    "    dict1[i] /= 9797\n",
    "    dict1[i] = [dict1[i], 0]"
   ]
  },
  {
   "cell_type": "code",
   "execution_count": 434,
   "metadata": {},
   "outputs": [],
   "source": [
    "leng = len(dict2)\n",
    "for i in dict2.keys():\n",
    "    dict2[i] /= 66211"
   ]
  },
  {
   "cell_type": "code",
   "execution_count": 435,
   "metadata": {},
   "outputs": [
    {
     "ename": "KeyError",
     "evalue": "'apetube'",
     "output_type": "error",
     "traceback": [
      "\u001b[1;31m---------------------------------------------------------------------------\u001b[0m",
      "\u001b[1;31mKeyError\u001b[0m                                  Traceback (most recent call last)",
      "\u001b[1;32mC:\\Users\\PROFES~1\\AppData\\Local\\Temp/ipykernel_10072/3010114522.py\u001b[0m in \u001b[0;36m<module>\u001b[1;34m\u001b[0m\n\u001b[0;32m      1\u001b[0m \u001b[1;31m#допишем значения touch к значениям desktop для слов из desktop\u001b[0m\u001b[1;33m\u001b[0m\u001b[1;33m\u001b[0m\u001b[0m\n\u001b[0;32m      2\u001b[0m \u001b[1;32mfor\u001b[0m \u001b[0mi\u001b[0m \u001b[1;32min\u001b[0m \u001b[0mdict2\u001b[0m\u001b[1;33m.\u001b[0m\u001b[0mkeys\u001b[0m\u001b[1;33m(\u001b[0m\u001b[1;33m)\u001b[0m\u001b[1;33m:\u001b[0m\u001b[1;33m\u001b[0m\u001b[1;33m\u001b[0m\u001b[0m\n\u001b[1;32m----> 3\u001b[1;33m     \u001b[0mdict1\u001b[0m\u001b[1;33m[\u001b[0m\u001b[0mi\u001b[0m\u001b[1;33m]\u001b[0m\u001b[1;33m[\u001b[0m\u001b[1;36m1\u001b[0m\u001b[1;33m]\u001b[0m \u001b[1;33m=\u001b[0m \u001b[0mdict2\u001b[0m\u001b[1;33m[\u001b[0m\u001b[0mi\u001b[0m\u001b[1;33m]\u001b[0m\u001b[1;33m\u001b[0m\u001b[1;33m\u001b[0m\u001b[0m\n\u001b[0m",
      "\u001b[1;31mKeyError\u001b[0m: 'apetube'"
     ]
    }
   ],
   "source": [
    "#допишем значения touch к значениям desktop для слов из desktop\n",
    "for i in dict2.keys():\n",
    "    dict1[i][1] = dict2[i]\n",
    "#выброс тут означают, что такого элемента в dict1 вообще нет, не влияет на логику решения"
   ]
  },
  {
   "cell_type": "code",
   "execution_count": 474,
   "metadata": {},
   "outputs": [],
   "source": [
    "ans = {}\n",
    "for i in dict1.keys():\n",
    "    if dict1[i][1] == 0:\n",
    "        ans[i] = dict1[i]\n",
    "    else:\n",
    "        if (dict1[i][1]/dict1[i][0] > 2 and dict1[i][1] > dict1[i][0]) or (dict1[i][0]/dict1[i][1] > 2 and dict1[i][0] > dict1[i][1]):\n",
    "            ans[i] = dict1[i]\n",
    "\n",
    "            \n",
    "for i in dict2.keys():\n",
    "    if i not in dict1.keys():\n",
    "        ans[i] = [0, dict2[i]]"
   ]
  },
  {
   "cell_type": "code",
   "execution_count": 482,
   "metadata": {},
   "outputs": [],
   "source": [
    "answer = pd.DataFrame(ans).T.rename(columns={0 : 'Desktop', 1 : 'Touch'})"
   ]
  },
  {
   "cell_type": "code",
   "execution_count": 483,
   "metadata": {},
   "outputs": [
    {
     "data": {
      "text/html": [
       "<div>\n",
       "<style scoped>\n",
       "    .dataframe tbody tr th:only-of-type {\n",
       "        vertical-align: middle;\n",
       "    }\n",
       "\n",
       "    .dataframe tbody tr th {\n",
       "        vertical-align: top;\n",
       "    }\n",
       "\n",
       "    .dataframe thead th {\n",
       "        text-align: right;\n",
       "    }\n",
       "</style>\n",
       "<table border=\"1\" class=\"dataframe\">\n",
       "  <thead>\n",
       "    <tr style=\"text-align: right;\">\n",
       "      <th></th>\n",
       "      <th>Desktop</th>\n",
       "      <th>Touch</th>\n",
       "    </tr>\n",
       "  </thead>\n",
       "  <tbody>\n",
       "    <tr>\n",
       "      <th>календарь</th>\n",
       "      <td>1.000000</td>\n",
       "      <td>0.097990</td>\n",
       "    </tr>\n",
       "    <tr>\n",
       "      <th>2021</th>\n",
       "      <td>0.963662</td>\n",
       "      <td>0.249475</td>\n",
       "    </tr>\n",
       "    <tr>\n",
       "      <th>таблица</th>\n",
       "      <td>0.959682</td>\n",
       "      <td>0.100829</td>\n",
       "    </tr>\n",
       "    <tr>\n",
       "      <th>картинки</th>\n",
       "      <td>0.861692</td>\n",
       "      <td>0.425654</td>\n",
       "    </tr>\n",
       "    <tr>\n",
       "      <th>карта</th>\n",
       "      <td>0.675615</td>\n",
       "      <td>0.152920</td>\n",
       "    </tr>\n",
       "    <tr>\n",
       "      <th>...</th>\n",
       "      <td>...</td>\n",
       "      <td>...</td>\n",
       "    </tr>\n",
       "    <tr>\n",
       "      <th>адлере</th>\n",
       "      <td>0.000000</td>\n",
       "      <td>0.000015</td>\n",
       "    </tr>\n",
       "    <tr>\n",
       "      <th>фф</th>\n",
       "      <td>0.000000</td>\n",
       "      <td>0.000015</td>\n",
       "    </tr>\n",
       "    <tr>\n",
       "      <th>точный</th>\n",
       "      <td>0.000000</td>\n",
       "      <td>0.000015</td>\n",
       "    </tr>\n",
       "    <tr>\n",
       "      <th>хабиба</th>\n",
       "      <td>0.000000</td>\n",
       "      <td>0.000015</td>\n",
       "    </tr>\n",
       "    <tr>\n",
       "      <th>жирные</th>\n",
       "      <td>0.000000</td>\n",
       "      <td>0.000015</td>\n",
       "    </tr>\n",
       "  </tbody>\n",
       "</table>\n",
       "<p>15562 rows × 2 columns</p>\n",
       "</div>"
      ],
      "text/plain": [
       "            Desktop     Touch\n",
       "календарь  1.000000  0.097990\n",
       "2021       0.963662  0.249475\n",
       "таблица    0.959682  0.100829\n",
       "картинки   0.861692  0.425654\n",
       "карта      0.675615  0.152920\n",
       "...             ...       ...\n",
       "адлере     0.000000  0.000015\n",
       "фф         0.000000  0.000015\n",
       "точный     0.000000  0.000015\n",
       "хабиба     0.000000  0.000015\n",
       "жирные     0.000000  0.000015\n",
       "\n",
       "[15562 rows x 2 columns]"
      ]
     },
     "execution_count": 483,
     "metadata": {},
     "output_type": "execute_result"
    }
   ],
   "source": [
    "answer"
   ]
  },
  {
   "cell_type": "raw",
   "metadata": {},
   "source": [
    "Получили фрейм, в котором каждому уникальному слову (читай теме) соответствует отнормированное количество вхождений в desktop и touch. В качестве контраста я взял отличие нормированных результатов в два раза. \n",
    "\n",
    "Даже наблюдение в ручном режиме за этим фреймом может дать некоторую информацию: аниме смотрят гораздо чаще на десктопе, чем на мобильном устройстве. Тоже самое про календари, раскраски, рисунки, таблицы, алфавиты и прочее и прочее. Дальнейший анализ даже этого в первом приближении уже дает неплохие представления о тематической разнице в запросах. \n",
    "\n",
    "Конечно же, в реальных условиях я спрошу у тимлида или сеньера совета по поводу такой задачи, поскольку она уже наверняка хорошо решена в Яндексе или как минимум мне дадут хороший совет. \n",
    "\n",
    "На мой взгляд, это большая и сложная задача, требующая чуть ли не своего отдела в компании, поэтому считаю справедливым решение лишь в некотором приближении, поскольку для данного теста я ограничен во времени (насколько я понял это решается в контексте одного часа) "
   ]
  },
  {
   "cell_type": "code",
   "execution_count": null,
   "metadata": {},
   "outputs": [],
   "source": []
  }
 ],
 "metadata": {
  "kernelspec": {
   "display_name": "Python 3 (ipykernel)",
   "language": "python",
   "name": "python3"
  },
  "language_info": {
   "codemirror_mode": {
    "name": "ipython",
    "version": 3
   },
   "file_extension": ".py",
   "mimetype": "text/x-python",
   "name": "python",
   "nbconvert_exporter": "python",
   "pygments_lexer": "ipython3",
   "version": "3.9.7"
  }
 },
 "nbformat": 4,
 "nbformat_minor": 4
}
